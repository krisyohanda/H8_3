{
 "cells": [
  {
   "cell_type": "markdown",
   "id": "3d3cd10f",
   "metadata": {},
   "source": [
    "# Conditions, Control Flow & Looping"
   ]
  },
  {
   "cell_type": "markdown",
   "id": "f417f1a9",
   "metadata": {},
   "source": [
    "## Introduction to if statement"
   ]
  },
  {
   "cell_type": "code",
   "execution_count": 1,
   "id": "f2a89b41",
   "metadata": {},
   "outputs": [
    {
     "name": "stdout",
     "output_type": "stream",
     "text": [
      "yes\n",
      "yes\n",
      "yes\n"
     ]
    }
   ],
   "source": [
    "x = 0\n",
    "y = 5\n",
    "\n",
    "if x < y:                            # Truthy\n",
    "    print('yes')\n",
    "\n",
    "if y < x:                            # Falsy\n",
    "    print('yes')\n",
    "\n",
    "if x:                                # Falsy\n",
    "    print('yes')\n",
    "\n",
    "if y:                                # Truthy\n",
    "    print('yes')\n",
    "\n",
    "if 'aul' in 'grault':                # Truthy\n",
    "    print('yes')\n",
    "\n",
    "if 'quux' in ['foo', 'bar', 'baz']:  # Falsy\n",
    "    print('yes')"
   ]
  },
  {
   "cell_type": "markdown",
   "id": "2385f961",
   "metadata": {},
   "source": [
    "## Grouping Statements: Indentation and Block"
   ]
  },
  {
   "cell_type": "code",
   "execution_count": 3,
   "id": "e5032221",
   "metadata": {},
   "outputs": [
    {
     "name": "stdout",
     "output_type": "stream",
     "text": [
      "After conditional\n"
     ]
    }
   ],
   "source": [
    "if 'foo' in ['bar', 'baz', 'qux']:\n",
    "    print('Expression was true')\n",
    "    print('Executing statement in suite')\n",
    "    print('...')\n",
    "    print('Done.')\n",
    "    \n",
    "print('After conditional')"
   ]
  },
  {
   "cell_type": "code",
   "execution_count": 4,
   "id": "a23fc814",
   "metadata": {},
   "outputs": [
    {
     "name": "stdout",
     "output_type": "stream",
     "text": [
      "Outer condition is true\n",
      "Between inner conditions\n",
      "Inner condition 2\n",
      "End of outer condition\n",
      "After outer condition\n"
     ]
    }
   ],
   "source": [
    "# Does line execute?                        Yes    No\n",
    "#                                           ---    --\n",
    "if 'foo' in ['foo', 'bar', 'baz']:        #  x\n",
    "    print('Outer condition is true')      #  x\n",
    "\n",
    "    if 10 > 20:                           #  x\n",
    "        print('Inner condition 1')        #        x\n",
    "\n",
    "    print('Between inner conditions')     #  x\n",
    "\n",
    "    if 10 < 20:                           #  x\n",
    "        print('Inner condition 2')        #  x\n",
    "\n",
    "    print('End of outer condition')       #  x\n",
    "print('After outer condition')            #  x"
   ]
  },
  {
   "cell_type": "markdown",
   "id": "8a0f0aaf",
   "metadata": {},
   "source": [
    "## The else and elif Clauses"
   ]
  },
  {
   "cell_type": "code",
   "execution_count": 5,
   "id": "1b5d1be4",
   "metadata": {},
   "outputs": [
    {
     "name": "stdout",
     "output_type": "stream",
     "text": [
      "(first suite)\n",
      "x is small\n"
     ]
    }
   ],
   "source": [
    "x = 20\n",
    "\n",
    "if x < 50:\n",
    "    print('(first suite)')\n",
    "    print('x is small')\n",
    "else:\n",
    "    print('(second suite)')\n",
    "    print('x is large')"
   ]
  },
  {
   "cell_type": "code",
   "execution_count": 6,
   "id": "fae830e8",
   "metadata": {},
   "outputs": [
    {
     "name": "stdout",
     "output_type": "stream",
     "text": [
      "(second suite)\n",
      "x is large\n"
     ]
    }
   ],
   "source": [
    "x = 120\n",
    "\n",
    "if x < 50:\n",
    "    print('(first suite)')\n",
    "    print('x is small')\n",
    "else:\n",
    "    print('(second suite)')\n",
    "    print('x is large')"
   ]
  },
  {
   "cell_type": "code",
   "execution_count": 7,
   "id": "5d474993",
   "metadata": {},
   "outputs": [
    {
     "name": "stdout",
     "output_type": "stream",
     "text": [
      "uang tidak cukup\n"
     ]
    }
   ],
   "source": [
    "hargaBuku = 20000\n",
    "hargaMajalah = 5000\n",
    "uang = 2000\n",
    "\n",
    "if uang > hargaBuku:\n",
    "    print(\"beli buku\")\n",
    "else:\n",
    "    print(\"uang tidak cukup\")"
   ]
  },
  {
   "cell_type": "code",
   "execution_count": 8,
   "id": "f42e4c8b",
   "metadata": {},
   "outputs": [
    {
     "name": "stdout",
     "output_type": "stream",
     "text": [
      "uang tidak cukup\n"
     ]
    }
   ],
   "source": [
    "hargaBuku = 20000\n",
    "hargaMajalah = 5000\n",
    "uang = 2000\n",
    "\n",
    "if uang > hargaBuku:\n",
    "    print(\"beli buku\")\n",
    "elif uang > hargaMajalah:\n",
    "    print(\"beli majalah\")\n",
    "else:\n",
    "    print(\"uang tidak cukup\")"
   ]
  },
  {
   "cell_type": "code",
   "execution_count": 9,
   "id": "96fdd386",
   "metadata": {},
   "outputs": [
    {
     "name": "stdout",
     "output_type": "stream",
     "text": [
      "Hello Hacktiv8\n"
     ]
    }
   ],
   "source": [
    "name = 'Hacktiv8'\n",
    "if name == 'Fred':\n",
    "    print('Hello Fred')\n",
    "elif name == 'Xander':\n",
    "    print('Hello Xander')\n",
    "elif name == 'Hacktiv8':\n",
    "    print('Hello Hacktiv8')\n",
    "elif name == 'Arnold':\n",
    "    print('Hello Arnold')\n",
    "else:\n",
    "    print(\"I don't know who you are!\")\n"
   ]
  },
  {
   "cell_type": "code",
   "execution_count": 10,
   "id": "1a25a82e",
   "metadata": {},
   "outputs": [
    {
     "name": "stdout",
     "output_type": "stream",
     "text": [
      "foo\n"
     ]
    }
   ],
   "source": [
    "if 'a' in 'bar':\n",
    "    print('foo')\n",
    "elif 1/0:\n",
    "    print(\"This won't happen\")\n",
    "elif var:\n",
    "    print(\"This won't either\")"
   ]
  },
  {
   "cell_type": "markdown",
   "id": "eed81bc8",
   "metadata": {},
   "source": [
    "## One-Line If Statements"
   ]
  },
  {
   "cell_type": "code",
   "execution_count": 11,
   "id": "899cb92b",
   "metadata": {},
   "outputs": [
    {
     "name": "stdout",
     "output_type": "stream",
     "text": [
      "1\n",
      "2\n",
      "3\n"
     ]
    }
   ],
   "source": [
    "if 'f' in 'foo': print('1'); print('2'); print('3')"
   ]
  },
  {
   "cell_type": "code",
   "execution_count": 12,
   "id": "4ac84aa0",
   "metadata": {},
   "outputs": [
    {
     "name": "stdout",
     "output_type": "stream",
     "text": [
      "qux\n",
      "quux\n"
     ]
    }
   ],
   "source": [
    "x = 2\n",
    "\n",
    "if x == 1: print('foo'); print('bar'); print('baz')\n",
    "elif x == 2: print('qux'); print('quux')\n",
    "else: print('corge'); print('grault')"
   ]
  },
  {
   "cell_type": "markdown",
   "id": "d6db75e0",
   "metadata": {},
   "source": [
    "## Conditional Expressions (Python's Ternary Operator)"
   ]
  },
  {
   "cell_type": "code",
   "execution_count": 13,
   "id": "56c1effc",
   "metadata": {},
   "outputs": [
    {
     "name": "stdout",
     "output_type": "stream",
     "text": [
      "Let's go to the beach\n"
     ]
    }
   ],
   "source": [
    "raining = False\n",
    "print(\"Let's go to the\", 'beach' if not raining else 'library')"
   ]
  },
  {
   "cell_type": "code",
   "execution_count": 14,
   "id": "c7344ab9",
   "metadata": {},
   "outputs": [
    {
     "name": "stdout",
     "output_type": "stream",
     "text": [
      "Let's go to the library\n"
     ]
    }
   ],
   "source": [
    "raining = True\n",
    "print(\"Let's go to the\", 'beach' if not raining else 'library')"
   ]
  },
  {
   "cell_type": "code",
   "execution_count": 15,
   "id": "c9027839",
   "metadata": {},
   "outputs": [
    {
     "data": {
      "text/plain": [
       "'teen'"
      ]
     },
     "execution_count": 15,
     "metadata": {},
     "output_type": "execute_result"
    }
   ],
   "source": [
    "age = 12\n",
    "s = 'teen' if age < 21 else 'adult'\n",
    "s"
   ]
  },
  {
   "cell_type": "markdown",
   "id": "fcd34546",
   "metadata": {},
   "source": [
    "## The Python Pass Statement"
   ]
  },
  {
   "cell_type": "code",
   "execution_count": 16,
   "id": "95781b9d",
   "metadata": {},
   "outputs": [
    {
     "ename": "IndentationError",
     "evalue": "expected an indented block after 'if' statement on line 1 (3367160564.py, line 3)",
     "output_type": "error",
     "traceback": [
      "\u001b[1;36m  Input \u001b[1;32mIn [16]\u001b[1;36m\u001b[0m\n\u001b[1;33m    print('foo')\u001b[0m\n\u001b[1;37m    ^\u001b[0m\n\u001b[1;31mIndentationError\u001b[0m\u001b[1;31m:\u001b[0m expected an indented block after 'if' statement on line 1\n"
     ]
    }
   ],
   "source": [
    "if True:\n",
    "\n",
    "print('foo')"
   ]
  },
  {
   "cell_type": "code",
   "execution_count": 17,
   "id": "7da41db4",
   "metadata": {},
   "outputs": [
    {
     "name": "stdout",
     "output_type": "stream",
     "text": [
      "foo\n"
     ]
    }
   ],
   "source": [
    "if True:\n",
    "    pass\n",
    "\n",
    "print('foo')"
   ]
  },
  {
   "cell_type": "markdown",
   "id": "4fb4c3dd",
   "metadata": {},
   "source": [
    "## Python \"while\" Loops"
   ]
  },
  {
   "cell_type": "code",
   "execution_count": 18,
   "id": "c218a57b",
   "metadata": {},
   "outputs": [
    {
     "name": "stdout",
     "output_type": "stream",
     "text": [
      "4\n",
      "3\n",
      "2\n",
      "1\n",
      "0\n"
     ]
    }
   ],
   "source": [
    "n = 5\n",
    "while n > 0:\n",
    "    n -= 1\n",
    "    print(n)"
   ]
  },
  {
   "cell_type": "code",
   "execution_count": 19,
   "id": "388e9fdd",
   "metadata": {},
   "outputs": [
    {
     "name": "stdout",
     "output_type": "stream",
     "text": [
      "1\n",
      "2\n",
      "3\n",
      "4\n",
      "5\n"
     ]
    }
   ],
   "source": [
    "i = 1\n",
    "while i < 6:\n",
    "  print(i)\n",
    "  i += 1"
   ]
  },
  {
   "cell_type": "markdown",
   "id": "8c8a32b6",
   "metadata": {},
   "source": [
    "## The Python break and continue Statements"
   ]
  },
  {
   "cell_type": "code",
   "execution_count": 20,
   "id": "fd8f0767",
   "metadata": {},
   "outputs": [
    {
     "name": "stdout",
     "output_type": "stream",
     "text": [
      "4\n",
      "3\n",
      "Loop ended.\n"
     ]
    }
   ],
   "source": [
    "n = 5\n",
    "while n > 0:\n",
    "    n -= 1\n",
    "    if n == 2:\n",
    "        break # Break Statement\n",
    "    print(n)\n",
    "print('Loop ended.')"
   ]
  },
  {
   "cell_type": "code",
   "execution_count": 21,
   "id": "ac1b6e8b",
   "metadata": {},
   "outputs": [
    {
     "name": "stdout",
     "output_type": "stream",
     "text": [
      "4\n",
      "3\n",
      "1\n",
      "0\n",
      "Loop ended.\n"
     ]
    }
   ],
   "source": [
    "n = 5\n",
    "while n > 0:\n",
    "    n -= 1\n",
    "    if n == 2:\n",
    "        continue\n",
    "    print(n)\n",
    "print('Loop ended.')"
   ]
  },
  {
   "cell_type": "markdown",
   "id": "18f0a073",
   "metadata": {},
   "source": [
    "## The else Clause"
   ]
  },
  {
   "cell_type": "code",
   "execution_count": 22,
   "id": "feaa612c",
   "metadata": {},
   "outputs": [
    {
     "name": "stdout",
     "output_type": "stream",
     "text": [
      "4\n",
      "3\n",
      "2\n",
      "1\n",
      "0\n",
      "Loop done.\n"
     ]
    }
   ],
   "source": [
    "n = 5\n",
    "while n > 0:\n",
    "    n -= 1\n",
    "    print(n)\n",
    "else:\n",
    "    print('Loop done.')"
   ]
  },
  {
   "cell_type": "code",
   "execution_count": 23,
   "id": "a2b378be",
   "metadata": {},
   "outputs": [
    {
     "name": "stdout",
     "output_type": "stream",
     "text": [
      "4\n",
      "3\n",
      "2\n"
     ]
    }
   ],
   "source": [
    "n = 5\n",
    "while n > 0:\n",
    "    n -= 1\n",
    "    print(n)\n",
    "    if n == 2:\n",
    "        break\n",
    "else:\n",
    "    print('Loop done.')"
   ]
  },
  {
   "cell_type": "markdown",
   "id": "1e0988ce",
   "metadata": {},
   "source": [
    "## Infinite Loops"
   ]
  },
  {
   "cell_type": "code",
   "execution_count": 1,
   "id": "f38320ba",
   "metadata": {},
   "outputs": [],
   "source": [
    "#while True:\n",
    "    #print('foo')"
   ]
  },
  {
   "cell_type": "markdown",
   "id": "bd62cf75",
   "metadata": {},
   "source": [
    "## Nested while Loops"
   ]
  },
  {
   "cell_type": "code",
   "execution_count": 1,
   "id": "68a7f2aa",
   "metadata": {},
   "outputs": [
    {
     "name": "stdout",
     "output_type": "stream",
     "text": [
      "foo\n",
      "> baz\n",
      "> qux\n",
      "bar\n",
      "> baz\n",
      "> qux\n"
     ]
    }
   ],
   "source": [
    "a = ['foo', 'bar']\n",
    "\n",
    "while len(a):\n",
    "    print(a.pop(0))\n",
    "    \n",
    "    b = ['baz', 'qux']\n",
    "    \n",
    "    while len(b):\n",
    "        print('>', b.pop(0))"
   ]
  },
  {
   "cell_type": "markdown",
   "id": "2e8a511e",
   "metadata": {},
   "source": [
    "## One-Line while Loops"
   ]
  },
  {
   "cell_type": "code",
   "execution_count": 2,
   "id": "bd65ac90",
   "metadata": {},
   "outputs": [
    {
     "name": "stdout",
     "output_type": "stream",
     "text": [
      "4\n",
      "3\n",
      "2\n",
      "1\n",
      "0\n"
     ]
    }
   ],
   "source": [
    "n = 5\n",
    "while n > 0: n -= 1; print(n)"
   ]
  },
  {
   "cell_type": "markdown",
   "id": "6f629546",
   "metadata": {},
   "source": [
    "## The Python for Loop"
   ]
  },
  {
   "cell_type": "code",
   "execution_count": 3,
   "id": "54dc923a",
   "metadata": {},
   "outputs": [
    {
     "name": "stdout",
     "output_type": "stream",
     "text": [
      "foo\n",
      "bar\n",
      "baz\n"
     ]
    }
   ],
   "source": [
    "a = ['foo', 'bar', 'baz']\n",
    "for i in a:\n",
    "    print(i)"
   ]
  },
  {
   "cell_type": "code",
   "execution_count": 4,
   "id": "727eac92",
   "metadata": {},
   "outputs": [
    {
     "name": "stdout",
     "output_type": "stream",
     "text": [
      "foo\n",
      "bar\n",
      "baz\n"
     ]
    }
   ],
   "source": [
    "d = {'foo': 1, 'bar': 2, 'baz': 3}\n",
    "for k in d:\n",
    "    print(k)"
   ]
  },
  {
   "cell_type": "code",
   "execution_count": 5,
   "id": "f4c4de23",
   "metadata": {},
   "outputs": [
    {
     "name": "stdout",
     "output_type": "stream",
     "text": [
      "0\n",
      "1\n",
      "2\n",
      "3\n",
      "4\n"
     ]
    }
   ],
   "source": [
    "for n in (0, 1, 2, 3, 4):\n",
    "    print(n)"
   ]
  }
 ],
 "metadata": {
  "kernelspec": {
   "display_name": "Python 3 (ipykernel)",
   "language": "python",
   "name": "python3"
  },
  "language_info": {
   "codemirror_mode": {
    "name": "ipython",
    "version": 3
   },
   "file_extension": ".py",
   "mimetype": "text/x-python",
   "name": "python",
   "nbconvert_exporter": "python",
   "pygments_lexer": "ipython3",
   "version": "3.10.6"
  },
  "toc": {
   "base_numbering": 1,
   "nav_menu": {},
   "number_sections": true,
   "sideBar": true,
   "skip_h1_title": false,
   "title_cell": "Table of Contents",
   "title_sidebar": "Contents",
   "toc_cell": false,
   "toc_position": {},
   "toc_section_display": true,
   "toc_window_display": false
  },
  "vscode": {
   "interpreter": {
    "hash": "0911b8567460ef29478d83a054b4053fbc01625b351e83c3797f8132ac1cd35a"
   }
  }
 },
 "nbformat": 4,
 "nbformat_minor": 5
}
