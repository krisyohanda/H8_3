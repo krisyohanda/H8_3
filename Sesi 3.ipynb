{
 "cells": [
  {
   "cell_type": "markdown",
   "id": "6500191d",
   "metadata": {},
   "source": [
    "## Defining a Function"
   ]
  },
  {
   "cell_type": "code",
   "execution_count": 1,
   "id": "3cc8955d",
   "metadata": {},
   "outputs": [],
   "source": [
    "def my_function(p, l):\n",
    "    \"Function untuk mengitung luas\"\n",
    "    print(p * l)"
   ]
  },
  {
   "cell_type": "code",
   "execution_count": 2,
   "id": "f37294bd",
   "metadata": {},
   "outputs": [
    {
     "name": "stdout",
     "output_type": "stream",
     "text": [
      "8\n"
     ]
    }
   ],
   "source": [
    "my_function(2,4)"
   ]
  },
  {
   "cell_type": "code",
   "execution_count": 4,
   "id": "18bec6e6",
   "metadata": {},
   "outputs": [],
   "source": [
    "def printme( str ):\n",
    "   \"This prints a passed string into this function\"\n",
    "   print(str)\n",
    "   return"
   ]
  },
  {
   "cell_type": "markdown",
   "id": "4f525476",
   "metadata": {},
   "source": [
    "## Calling a Function"
   ]
  },
  {
   "cell_type": "code",
   "execution_count": 5,
   "id": "0b9ea26c",
   "metadata": {},
   "outputs": [
    {
     "name": "stdout",
     "output_type": "stream",
     "text": [
      "I'm first call to user defined function!\n",
      "Again second call to the same function\n"
     ]
    }
   ],
   "source": [
    "# Now you can call printme function\n",
    "printme(\"I'm first call to user defined function!\")\n",
    "printme(\"Again second call to the same function\")"
   ]
  },
  {
   "cell_type": "markdown",
   "id": "c9a8d38d",
   "metadata": {},
   "source": [
    "## Pass by reference vs Value"
   ]
  },
  {
   "cell_type": "code",
   "execution_count": 6,
   "id": "4a574b38",
   "metadata": {},
   "outputs": [
    {
     "name": "stdout",
     "output_type": "stream",
     "text": [
      "Values inside the function:  [10, 20, 30, [1, 2, 3, 4]]\n",
      "Values outside the function:  [10, 20, 30, [1, 2, 3, 4]]\n"
     ]
    }
   ],
   "source": [
    "# Function definition is here\n",
    "def changeme( mylist ):\n",
    "   \"This changes a passed list into this function\"\n",
    "   mylist.append([1,2,3,4]);\n",
    "   print(\"Values inside the function: \", mylist)\n",
    "   return\n",
    "\n",
    "# Now you can call changeme function\n",
    "mylist = [10,20,30];\n",
    "changeme( mylist );\n",
    "print(\"Values outside the function: \", mylist)"
   ]
  },
  {
   "cell_type": "code",
   "execution_count": 7,
   "id": "111c536c",
   "metadata": {},
   "outputs": [
    {
     "name": "stdout",
     "output_type": "stream",
     "text": [
      "Values inside the function:  [1, 2, 3, 4]\n",
      "Values outside the function:  [10, 20, 30]\n"
     ]
    }
   ],
   "source": [
    "# Function definition is here\n",
    "def changeme( mylist ):\n",
    "   \"This changes a passed list into this function\"\n",
    "   mylist = [1,2,3,4]; # This would assig new reference in mylist\n",
    "   print(\"Values inside the function: \", mylist)\n",
    "   return\n",
    "\n",
    "# Now you can call changeme function\n",
    "mylist = [10,20,30];\n",
    "changeme( mylist );\n",
    "print(\"Values outside the function: \", mylist)"
   ]
  },
  {
   "cell_type": "markdown",
   "id": "d2d40f65",
   "metadata": {},
   "source": [
    "## Function Arguments"
   ]
  },
  {
   "cell_type": "markdown",
   "id": "fe2e4abf",
   "metadata": {},
   "source": [
    "### Required Arguments"
   ]
  },
  {
   "cell_type": "code",
   "execution_count": 11,
   "id": "df006d58",
   "metadata": {},
   "outputs": [
    {
     "ename": "TypeError",
     "evalue": "printme() missing 1 required positional argument: 'str'",
     "output_type": "error",
     "traceback": [
      "\u001b[1;31m---------------------------------------------------------------------------\u001b[0m",
      "\u001b[1;31mTypeError\u001b[0m                                 Traceback (most recent call last)",
      "Input \u001b[1;32mIn [11]\u001b[0m, in \u001b[0;36m<cell line: 8>\u001b[1;34m()\u001b[0m\n\u001b[0;32m      5\u001b[0m    \u001b[38;5;28;01mreturn\u001b[39;00m;\n\u001b[0;32m      7\u001b[0m \u001b[38;5;66;03m# Now you can call printme function\u001b[39;00m\n\u001b[1;32m----> 8\u001b[0m \u001b[43mprintme\u001b[49m\u001b[43m(\u001b[49m\u001b[43m)\u001b[49m\n",
      "\u001b[1;31mTypeError\u001b[0m: printme() missing 1 required positional argument: 'str'"
     ]
    }
   ],
   "source": [
    "# Function definition is here\n",
    "def printme( str ):\n",
    "   \"This prints a passed string into this function\"\n",
    "   print(str)\n",
    "   return;\n",
    "\n",
    "# Now you can call printme function\n",
    "printme()"
   ]
  },
  {
   "cell_type": "markdown",
   "id": "7db1a2cf",
   "metadata": {},
   "source": [
    "### Keyword Arguments"
   ]
  },
  {
   "cell_type": "code",
   "execution_count": 12,
   "id": "d5816e07",
   "metadata": {},
   "outputs": [
    {
     "name": "stdout",
     "output_type": "stream",
     "text": [
      "Hacktiv8\n"
     ]
    }
   ],
   "source": [
    "# Function definition is here\n",
    "def printme( str ):\n",
    "   \"This prints a passed string into this function\"\n",
    "   print(str)\n",
    "   return;\n",
    "\n",
    "# Now you can call printme function\n",
    "printme(str = \"Hacktiv8\")"
   ]
  },
  {
   "cell_type": "code",
   "execution_count": 13,
   "id": "d555a114",
   "metadata": {},
   "outputs": [
    {
     "name": "stdout",
     "output_type": "stream",
     "text": [
      "Name:  hacktiv8\n",
      "Age:  4\n"
     ]
    }
   ],
   "source": [
    "# Function definition is here\n",
    "def printinfo( name, age ):\n",
    "   \"This prints a passed info into this function\"\n",
    "   print(\"Name: \", name)\n",
    "   print(\"Age: \", age)\n",
    "   return;\n",
    "\n",
    "# Now you can call printinfo function\n",
    "printinfo( age=4, name=\"hacktiv8\" )"
   ]
  },
  {
   "cell_type": "markdown",
   "id": "ea366148",
   "metadata": {},
   "source": [
    "### Default Arguments"
   ]
  },
  {
   "cell_type": "code",
   "execution_count": 14,
   "id": "9672531e",
   "metadata": {},
   "outputs": [
    {
     "name": "stdout",
     "output_type": "stream",
     "text": [
      "Name:  hacktiv8\n",
      "Age:  50\n",
      "Name:  hacktiv\n",
      "Age:  26\n"
     ]
    }
   ],
   "source": [
    "# Function definition is here\n",
    "def printinfo( name, age = 26 ):\n",
    "   \"This prints a passed info into this function\"\n",
    "   print(\"Name: \", name)\n",
    "   print(\"Age: \", age)\n",
    "   return;\n",
    "\n",
    "# Now you can call printinfo function\n",
    "printinfo( age=50, name=\"hacktiv8\" )\n",
    "printinfo( name=\"hacktiv\" )"
   ]
  },
  {
   "cell_type": "markdown",
   "id": "22bfed47",
   "metadata": {},
   "source": [
    "### Variable-length Arguments"
   ]
  },
  {
   "cell_type": "code",
   "execution_count": 16,
   "id": "1b60ec19",
   "metadata": {},
   "outputs": [
    {
     "name": "stdout",
     "output_type": "stream",
     "text": [
      "Output is: \n",
      "10\n",
      "Output is: \n",
      "70\n",
      "60\n",
      "50\n",
      "a\n"
     ]
    }
   ],
   "source": [
    "# Function definition is here\n",
    "def printinfo( arg1, *vartuple ):\n",
    "   \"This prints a variable passed arguments\"\n",
    "   print(\"Output is: \")\n",
    "   print(arg1)\n",
    "   for var in vartuple:\n",
    "      print(var)\n",
    "   return;\n",
    "\n",
    "# Now you can call printinfo function\n",
    "printinfo( 10 )\n",
    "printinfo( 70, 60, 50, \"a\" )"
   ]
  },
  {
   "cell_type": "markdown",
   "id": "e8d0e0b2",
   "metadata": {},
   "source": [
    "## The Anonymous Function"
   ]
  },
  {
   "cell_type": "code",
   "execution_count": 15,
   "id": "4243dd61",
   "metadata": {},
   "outputs": [
    {
     "name": "stdout",
     "output_type": "stream",
     "text": [
      "Value of total :  None\n",
      "Value of total :  None\n"
     ]
    }
   ],
   "source": [
    "# Function definition is here\n",
    "sum = lambda arg1, arg2: arg1 + arg2;\n",
    "\n",
    "def sum(arg1, arg2):\n",
    "    arg1 + arg2\n",
    "    \n",
    "# Now you can call sum as a function\n",
    "print(\"Value of total : \", sum( 10, 20 ))\n",
    "print(\"Value of total : \", sum( 20, 20 ))"
   ]
  },
  {
   "cell_type": "markdown",
   "id": "2362415a",
   "metadata": {},
   "source": [
    "## The Return Statement"
   ]
  },
  {
   "cell_type": "code",
   "execution_count": 16,
   "id": "d27e95b0",
   "metadata": {},
   "outputs": [
    {
     "name": "stdout",
     "output_type": "stream",
     "text": [
      "Inside the function :  30\n",
      "Outside the function :  40\n"
     ]
    }
   ],
   "source": [
    "# Function definition is here\n",
    "def sum(arg1, arg2):\n",
    "    # Add both the parameters and return them.\"\n",
    "    total = arg1 + arg2\n",
    "    total2 = total + arg1\n",
    "    print(\"Inside the function : \", total)\n",
    "    return total2\n",
    "\n",
    "# Now you can call sum function\n",
    "total = sum(10, 20)\n",
    "print(\"Outside the function : \", total)"
   ]
  },
  {
   "cell_type": "markdown",
   "id": "7df7cd06",
   "metadata": {},
   "source": [
    "## Scope of Variables"
   ]
  },
  {
   "cell_type": "markdown",
   "id": "001178f8",
   "metadata": {},
   "source": [
    "### Global Vs Local"
   ]
  },
  {
   "cell_type": "code",
   "execution_count": 22,
   "id": "15bab4d2",
   "metadata": {},
   "outputs": [
    {
     "name": "stdout",
     "output_type": "stream",
     "text": [
      "Outside the function global total :  0\n"
     ]
    }
   ],
   "source": [
    "total = 0; \n",
    "\n",
    "def sum( arg1, arg2 ):\n",
    "\n",
    "   total = arg1 + arg2; \n",
    "   print(\"Inside the function local total : \", total)\n",
    "   return total;\n",
    "\n",
    "def min():\n",
    "    \n",
    "\n",
    "    sum( 10, 20 );\n",
    "print(\"Outside the function global total : \", total)"
   ]
  },
  {
   "cell_type": "code",
   "execution_count": 25,
   "id": "f007d4ff",
   "metadata": {},
   "outputs": [
    {
     "data": {
      "text/plain": [
       "40"
      ]
     },
     "execution_count": 25,
     "metadata": {},
     "output_type": "execute_result"
    }
   ],
   "source": [
    "jumlahKucing = 20\n",
    "\n",
    "def jumlahHewan():\n",
    "    jumlahAnjing = 30\n",
    "    return jumlahKucing + jumlahAnjing\n",
    "\n",
    "def jumlahKelinci():\n",
    "    return jumlahKucing + jumlahKucing\n",
    "\n",
    "jumlahHewan()\n",
    "jumlahKelinci()"
   ]
  },
  {
   "cell_type": "markdown",
   "id": "9716affe",
   "metadata": {},
   "source": [
    "## Python Modules: Overview"
   ]
  },
  {
   "cell_type": "markdown",
   "id": "aecd307d",
   "metadata": {},
   "source": [
    "Ada 3 cara untuk mendefinisikan module\n",
    "1. Module dapat ditulis dengan bahasa Python\n",
    "2. Module ditulis dalam bahasa C dan di-load secara dinamis pada saat run-time\n",
    "3. Built-in module secara intrinsik terdapat dalam interpreter "
   ]
  },
  {
   "cell_type": "markdown",
   "id": "ffb18dd5",
   "metadata": {},
   "source": [
    "Isi modul diakses dengan menggunakan import statement  \n",
    "Buat sebuah file bernama mod.py seperti di bawah  ini:"
   ]
  },
  {
   "cell_type": "code",
   "execution_count": 2,
   "id": "516950f7",
   "metadata": {},
   "outputs": [],
   "source": [
    "s = \"Hacktiv8-PTP Python For Data Science\"\n",
    "a = [100, 200, 300]\n",
    "\n",
    "def foo(arg):\n",
    "    print(f'arg = {arg}')\n",
    "\n",
    "class Foo:\n",
    "    pass"
   ]
  },
  {
   "cell_type": "markdown",
   "id": "541db502",
   "metadata": {},
   "source": [
    "Beberapa objek didefinisikan di mod.py:\n",
    "1. s (a string)\n",
    "2. a (a list)\n",
    "3. foo() (a function)\n",
    "4. Foo (a class)"
   ]
  },
  {
   "cell_type": "markdown",
   "id": "e2bef313",
   "metadata": {},
   "source": [
    "Objek di atas dapat diakses dengan cara melakukan import seperti di bawah ini:"
   ]
  },
  {
   "cell_type": "code",
   "execution_count": 5,
   "id": "5249194e",
   "metadata": {},
   "outputs": [],
   "source": [
    "# import mod\n",
    "# print(mod.s)"
   ]
  },
  {
   "cell_type": "markdown",
   "id": "8c87abed",
   "metadata": {},
   "source": [
    "## The Module Search Path"
   ]
  },
  {
   "cell_type": "code",
   "execution_count": null,
   "id": "bc69c70c",
   "metadata": {},
   "outputs": [],
   "source": [
    "# import nama_modul"
   ]
  },
  {
   "cell_type": "markdown",
   "id": "54f89d08",
   "metadata": {},
   "source": [
    "Ketika interpreter menjalankan pernyataan import di atas, ia mencari nama_modul.py dalam daftar direktori dari sumber berikut:\n",
    "1. Direktori tempat skrip input dijalankan atau direktori saat ini jika interpreter dijalankan secara interaktif\n",
    "2. Daftar direktori yang terdapat dalam variabel PYTHONPATH environment.\n",
    "3. Daftar direktori yang bergantung pada instalasi yang dikonfigurasi pada saat Python diinstal"
   ]
  },
  {
   "cell_type": "markdown",
   "id": "2caafb8e",
   "metadata": {},
   "source": [
    "Hasil dari search path dapat diakses di variabel Python sys.path"
   ]
  },
  {
   "cell_type": "code",
   "execution_count": 6,
   "id": "e5176557",
   "metadata": {},
   "outputs": [
    {
     "data": {
      "text/plain": [
       "['D:\\\\Kuliah\\\\SEMESTER 5\\\\gitToday',\n",
       " 'C:\\\\Users\\\\Krisyohanda\\\\AppData\\\\Local\\\\Programs\\\\Python\\\\Python310\\\\python310.zip',\n",
       " 'C:\\\\Users\\\\Krisyohanda\\\\AppData\\\\Local\\\\Programs\\\\Python\\\\Python310\\\\DLLs',\n",
       " 'C:\\\\Users\\\\Krisyohanda\\\\AppData\\\\Local\\\\Programs\\\\Python\\\\Python310\\\\lib',\n",
       " 'C:\\\\Users\\\\Krisyohanda\\\\AppData\\\\Local\\\\Programs\\\\Python\\\\Python310',\n",
       " '',\n",
       " 'C:\\\\Users\\\\Krisyohanda\\\\AppData\\\\Local\\\\Programs\\\\Python\\\\Python310\\\\lib\\\\site-packages',\n",
       " 'C:\\\\Users\\\\Krisyohanda\\\\AppData\\\\Local\\\\Programs\\\\Python\\\\Python310\\\\lib\\\\site-packages\\\\win32',\n",
       " 'C:\\\\Users\\\\Krisyohanda\\\\AppData\\\\Local\\\\Programs\\\\Python\\\\Python310\\\\lib\\\\site-packages\\\\win32\\\\lib',\n",
       " 'C:\\\\Users\\\\Krisyohanda\\\\AppData\\\\Local\\\\Programs\\\\Python\\\\Python310\\\\lib\\\\site-packages\\\\Pythonwin']"
      ]
     },
     "execution_count": 6,
     "metadata": {},
     "output_type": "execute_result"
    }
   ],
   "source": [
    "import sys\n",
    "sys.path"
   ]
  },
  {
   "cell_type": "markdown",
   "id": "f04cea8c",
   "metadata": {},
   "source": [
    "Meletakkan file modul di direktori dan memodifikasi sys.path seperti contoh di bawah ini"
   ]
  },
  {
   "cell_type": "code",
   "execution_count": 7,
   "id": "78641d5a",
   "metadata": {},
   "outputs": [],
   "source": [
    "# sys.path(r'/Users/Krisyohanda/Documents/H8')\n",
    "# ...\n",
    "# import mod"
   ]
  },
  {
   "cell_type": "markdown",
   "id": "4f0179cc",
   "metadata": {},
   "source": [
    "## The import Statement"
   ]
  },
  {
   "cell_type": "markdown",
   "id": "3b38c386",
   "metadata": {},
   "source": [
    "Bentuk paling sederhana import statement adalah\n",
    "\n",
    "import nama_modul\n",
    "\n",
    "Untuk memanggil objek yang berada dalam modul, dapat diakses dengan nama_modul.nama_objek"
   ]
  },
  {
   "cell_type": "markdown",
   "id": "29c27a31",
   "metadata": {},
   "source": [
    "Bentuk alternatif dari import statement memungkinkan objek individu dari modul untuk diimpor langsung ke tabel simbol pemanggil:\n",
    "\n",
    "from nama_modul import nama_objek\n",
    "\n",
    "Bahkan memungkinkan untuk mengimpor semuanya secara langsung dari modul dalam satu command:\n",
    "\n",
    "from nama_modul import *\n",
    "\n",
    "Dimungkinkan juga untuk mengimpor objek individu tetapi memasukannya ke dalam tabel simbol lokal dengan nama alternatif\n",
    "\n",
    "from nama_modul import nama_objek as nama_alternatif\n",
    "\n",
    "Kalian juga dapat mengimpor seluruh modul dengan nama alternatif:\n",
    "\n",
    "import nama_modul as nama_alternatif"
   ]
  },
  {
   "cell_type": "markdown",
   "id": "13ded700",
   "metadata": {},
   "source": [
    "### Try statement"
   ]
  },
  {
   "cell_type": "markdown",
   "id": "36d6e7b0",
   "metadata": {},
   "source": [
    "try:  \n",
    "...     # Non-existent module  \n",
    "...     import baz  \n",
    "... except ImportError:  \n",
    "...     print('Module not found')  \n",
    "...\n",
    "\n",
    "Module not found\n",
    "\n",
    "try:  \n",
    "...     # Existing module, but non-existent object  \n",
    "...     from mod import baz  \n",
    "... except ImportError:  \n",
    "...     print('Object not found in module')  \n",
    "...  \n",
    "\n",
    "Object not found in module"
   ]
  },
  {
   "cell_type": "markdown",
   "id": "6004ffba",
   "metadata": {},
   "source": [
    "## The dir() Function"
   ]
  },
  {
   "cell_type": "markdown",
   "id": "c47e8648",
   "metadata": {},
   "source": [
    "Fungsi built-in dir() mengembalikan daftar nama yang ditentukan dalam namespace. Tanpa argumen, dir() menghasilkan daftar nama yang diurutkan menurut abjad dalam tabel simbol lokal saat ini"
   ]
  },
  {
   "cell_type": "markdown",
   "id": "77b160c8",
   "metadata": {},
   "source": [
    "## PIP"
   ]
  },
  {
   "cell_type": "markdown",
   "id": "f13eb3d6",
   "metadata": {},
   "source": [
    "pip adalah package manager untuk Python. Artinya, pip adalah alat yang memungkinkan untuk menginstall dan mengelola library dan dependensi tambahan yang tidak didistribusikan sebagai bagian dari library standar."
   ]
  },
  {
   "cell_type": "code",
   "execution_count": 8,
   "id": "e1a3917b",
   "metadata": {},
   "outputs": [
    {
     "name": "stdout",
     "output_type": "stream",
     "text": [
      "pip 22.2.2 from C:\\Users\\Krisyohanda\\AppData\\Local\\Programs\\Python\\Python310\\lib\\site-packages\\pip (python 3.10)\n",
      "\n",
      "Note: you may need to restart the kernel to use updated packages.\n"
     ]
    }
   ],
   "source": [
    "# Memverifikasi bahwa pip tersedia\n",
    "%pip --version"
   ]
  },
  {
   "cell_type": "markdown",
   "id": "ed98dbba",
   "metadata": {},
   "source": [
    "## Basic Package Installation"
   ]
  },
  {
   "cell_type": "code",
   "execution_count": 9,
   "id": "e85c76bf",
   "metadata": {},
   "outputs": [
    {
     "name": "stdout",
     "output_type": "stream",
     "text": [
      "\n",
      "Usage:   \n",
      "  C:\\Users\\Krisyohanda\\AppData\\Local\\Programs\\Python\\Python310\\python.exe -m pip <command> [options]\n",
      "\n",
      "Commands:\n",
      "  install                     Install packages.\n",
      "  download                    Download packages.\n",
      "  uninstall                   Uninstall packages.\n",
      "  freeze                      Output installed packages in requirements format.\n",
      "  inspect                     Inspect the python environment.\n",
      "  list                        List installed packages.\n",
      "  show                        Show information about installed packages.\n",
      "  check                       Verify installed packages have compatible dependencies.\n",
      "  config                      Manage local and global configuration.\n",
      "  search                      Search PyPI for packages.\n",
      "  cache                       Inspect and manage pip's wheel cache.\n",
      "  index                       Inspect information available from package indexes.\n",
      "  wheel                       Build wheels from your requirements.\n",
      "  hash                        Compute hashes of package archives.\n",
      "  completion                  A helper command used for command completion.\n",
      "  debug                       Show information useful for debugging.\n",
      "  help                        Show help for commands.\n",
      "\n",
      "General Options:\n",
      "  -h, --help                  Show help.\n",
      "  --debug                     Let unhandled exceptions propagate outside the\n",
      "                              main subroutine, instead of logging them to\n",
      "                              stderr.\n",
      "  --isolated                  Run pip in an isolated mode, ignoring\n",
      "                              environment variables and user configuration.\n",
      "  --require-virtualenv        Allow pip to only run in a virtual environment;\n",
      "                              exit with an error otherwise.\n",
      "  -v, --verbose               Give more output. Option is additive, and can be\n",
      "                              used up to 3 times.\n",
      "  -V, --version               Show version and exit.\n",
      "  -q, --quiet                 Give less output. Option is additive, and can be\n",
      "                              used up to 3 times (corresponding to WARNING,\n",
      "                              ERROR, and CRITICAL logging levels).\n",
      "  --log <path>                Path to a verbose appending log.\n",
      "  --no-input                  Disable prompting for input.\n",
      "  --proxy <proxy>             Specify a proxy in the form\n",
      "                              scheme://[user:passwd@]proxy.server:port.\n",
      "  --retries <retries>         Maximum number of retries each connection should\n",
      "                              attempt (default 5 times).\n",
      "  --timeout <sec>             Set the socket timeout (default 15 seconds).\n",
      "  --exists-action <action>    Default action when a path already exists:\n",
      "                              (s)witch, (i)gnore, (w)ipe, (b)ackup, (a)bort.\n",
      "  --trusted-host <hostname>   Mark this host or host:port pair as trusted,\n",
      "                              even though it does not have valid or any HTTPS.\n",
      "  --cert <path>               Path to PEM-encoded CA certificate bundle. If\n",
      "                              provided, overrides the default. See 'SSL\n",
      "                              Certificate Verification' in pip documentation\n",
      "                              for more information.\n",
      "  --client-cert <path>        Path to SSL client certificate, a single file\n",
      "                              containing the private key and the certificate\n",
      "                              in PEM format.\n",
      "  --cache-dir <dir>           Store the cache data in <dir>.\n",
      "  --no-cache-dir              Disable the cache.\n",
      "  --disable-pip-version-check\n",
      "                              Don't periodically check PyPI to determine\n",
      "                              whether a new version of pip is available for\n",
      "                              download. Implied with --no-index.\n",
      "  --no-color                  Suppress colored output.\n",
      "  --no-python-version-warning\n",
      "                              Silence deprecation warnings for upcoming\n",
      "                              unsupported Pythons.\n",
      "  --use-feature <feature>     Enable new functionality, that may be backward\n",
      "                              incompatible.\n",
      "  --use-deprecated <feature>  Enable deprecated functionality, that will be\n",
      "                              removed in the future.\n",
      "Note: you may need to restart the kernel to use updated packages.\n"
     ]
    }
   ],
   "source": [
    "# Mempelajari perintah yang didukung pip dengan menjalankan\n",
    "%pip help"
   ]
  },
  {
   "cell_type": "code",
   "execution_count": 11,
   "id": "bd417a33",
   "metadata": {},
   "outputs": [
    {
     "name": "stdout",
     "output_type": "stream",
     "text": [
      "Collecting requests\n",
      "  Downloading requests-2.28.1-py3-none-any.whl (62 kB)\n",
      "     ---------------------------------------- 62.8/62.8 kB 1.6 MB/s eta 0:00:00\n",
      "Collecting idna<4,>=2.5\n",
      "  Downloading idna-3.3-py3-none-any.whl (61 kB)\n",
      "     ---------------------------------------- 61.2/61.2 kB 3.4 MB/s eta 0:00:00\n",
      "Collecting charset-normalizer<3,>=2\n",
      "  Downloading charset_normalizer-2.1.1-py3-none-any.whl (39 kB)\n",
      "Collecting urllib3<1.27,>=1.21.1\n",
      "  Downloading urllib3-1.26.12-py2.py3-none-any.whl (140 kB)\n",
      "     -------------------------------------- 140.4/140.4 kB 8.1 MB/s eta 0:00:00\n",
      "Collecting certifi>=2017.4.17\n",
      "  Downloading certifi-2022.6.15-py3-none-any.whl (160 kB)\n",
      "     -------------------------------------- 160.2/160.2 kB 4.8 MB/s eta 0:00:00\n",
      "Installing collected packages: urllib3, idna, charset-normalizer, certifi, requests\n",
      "Successfully installed certifi-2022.6.15 charset-normalizer-2.1.1 idna-3.3 requests-2.28.1 urllib3-1.26.12\n",
      "Note: you may need to restart the kernel to use updated packages.\n"
     ]
    }
   ],
   "source": [
    "# Menginstall requests package\n",
    "%pip install requests"
   ]
  },
  {
   "cell_type": "code",
   "execution_count": 12,
   "id": "1667eaf0",
   "metadata": {},
   "outputs": [],
   "source": [
    "# Perintah untuk memperbarui pip\n",
    "# python -m pip install --upgrade pip"
   ]
  },
  {
   "cell_type": "code",
   "execution_count": 13,
   "id": "5320aadd",
   "metadata": {},
   "outputs": [
    {
     "name": "stdout",
     "output_type": "stream",
     "text": [
      "Package                           Version\n",
      "--------------------------------- -----------\n",
      "argon2-cffi                       21.3.0\n",
      "argon2-cffi-bindings              21.2.0\n",
      "asttokens                         2.0.8\n",
      "attrs                             22.1.0\n",
      "autopep8                          1.7.0\n",
      "backcall                          0.2.0\n",
      "beautifulsoup4                    4.11.1\n",
      "bleach                            5.0.1\n",
      "certifi                           2022.6.15\n",
      "cffi                              1.15.1\n",
      "charset-normalizer                2.1.1\n",
      "colorama                          0.4.5\n",
      "debugpy                           1.6.3\n",
      "decorator                         5.1.1\n",
      "defusedxml                        0.7.1\n",
      "entrypoints                       0.4\n",
      "executing                         0.10.0\n",
      "fastjsonschema                    2.16.1\n",
      "idna                              3.3\n",
      "ipykernel                         6.15.1\n",
      "ipython                           8.4.0\n",
      "ipython-genutils                  0.2.0\n",
      "ipywidgets                        8.0.1\n",
      "jedi                              0.18.1\n",
      "Jinja2                            3.1.2\n",
      "jsonschema                        4.14.0\n",
      "jupyter_client                    7.3.5\n",
      "jupyter-contrib-core              0.4.0\n",
      "jupyter-contrib-nbextensions      0.5.1\n",
      "jupyter-core                      4.11.1\n",
      "jupyter-highlight-selected-word   0.2.0\n",
      "jupyter-latex-envs                1.4.6\n",
      "jupyter-nbextensions-configurator 0.5.0\n",
      "jupyterlab-pygments               0.2.2\n",
      "jupyterlab-widgets                3.0.2\n",
      "lxml                              4.9.1\n",
      "MarkupSafe                        2.1.1\n",
      "matplotlib-inline                 0.1.6\n",
      "mistune                           2.0.4\n",
      "nbclient                          0.6.7\n",
      "nbconvert                         7.0.0\n",
      "nbformat                          5.4.0\n",
      "nest-asyncio                      1.5.5\n",
      "notebook                          6.4.12\n",
      "numpy                             1.23.2\n",
      "packaging                         21.3\n",
      "pandas                            1.4.3\n",
      "pandocfilters                     1.5.0\n",
      "parso                             0.8.3\n",
      "pickleshare                       0.7.5\n",
      "pip                               22.2.2\n",
      "prometheus-client                 0.14.1\n",
      "prompt-toolkit                    3.0.30\n",
      "psutil                            5.9.1\n",
      "pure-eval                         0.2.2\n",
      "pycodestyle                       2.9.1\n",
      "pycparser                         2.21\n",
      "Pygments                          2.13.0\n",
      "pyparsing                         3.0.9\n",
      "pyrsistent                        0.18.1\n",
      "python-dateutil                   2.8.2\n",
      "pyttsx                            1.1\n",
      "pytz                              2022.2.1\n",
      "pywin32                           304\n",
      "pywinpty                          2.0.7\n",
      "PyYAML                            6.0\n",
      "pyzmq                             23.2.1\n",
      "requests                          2.28.1\n",
      "Send2Trash                        1.8.0\n",
      "setuptools                        63.2.0\n",
      "six                               1.16.0\n",
      "soupsieve                         2.3.2.post1\n",
      "stack-data                        0.4.0\n",
      "terminado                         0.15.0\n",
      "tinycss2                          1.1.1\n",
      "toml                              0.10.2\n",
      "tornado                           6.2\n",
      "traitlets                         5.3.0\n",
      "urllib3                           1.26.12\n",
      "wcwidth                           0.2.5\n",
      "webencodings                      0.5.1\n",
      "widgetsnbextension                4.0.2\n",
      "Note: you may need to restart the kernel to use updated packages.\n"
     ]
    }
   ],
   "source": [
    "# Perintah list untuk melihat packages yang diinstal di environment\n",
    "%pip list"
   ]
  },
  {
   "cell_type": "markdown",
   "id": "861a7b92",
   "metadata": {},
   "source": [
    "## Uninstalling Packages"
   ]
  },
  {
   "cell_type": "code",
   "execution_count": 15,
   "id": "bc8b17a2",
   "metadata": {},
   "outputs": [
    {
     "name": "stdout",
     "output_type": "stream",
     "text": [
      "Name: requests\n",
      "Version: 2.28.1\n",
      "Summary: Python HTTP for Humans.\n",
      "Home-page: https://requests.readthedocs.io\n",
      "Author: Kenneth Reitz\n",
      "Author-email: me@kennethreitz.org\n",
      "License: Apache 2.0\n",
      "Location: c:\\users\\krisyohanda\\appdata\\local\\programs\\python\\python310\\lib\\site-packages\n",
      "Requires: certifi, charset-normalizer, idna, urllib3\n",
      "Required-by: \n",
      "Note: you may need to restart the kernel to use updated packages.\n"
     ]
    }
   ],
   "source": [
    "# Jalankan perintah show sebelum menghapus paket\n",
    "%pip show requests"
   ]
  },
  {
   "cell_type": "code",
   "execution_count": null,
   "id": "bd8a5721",
   "metadata": {},
   "outputs": [],
   "source": [
    "# Mencopot pemasangan package\n",
    "# Cara 1\n",
    "# pip uninstall nama_package\n",
    "# Cara 2 (without confirmation)\n",
    "# pip uninstall nama_package -y"
   ]
  }
 ],
 "metadata": {
  "kernelspec": {
   "display_name": "Python 3 (ipykernel)",
   "language": "python",
   "name": "python3"
  },
  "language_info": {
   "codemirror_mode": {
    "name": "ipython",
    "version": 3
   },
   "file_extension": ".py",
   "mimetype": "text/x-python",
   "name": "python",
   "nbconvert_exporter": "python",
   "pygments_lexer": "ipython3",
   "version": "3.10.6"
  },
  "toc": {
   "base_numbering": 1,
   "nav_menu": {},
   "number_sections": true,
   "sideBar": true,
   "skip_h1_title": false,
   "title_cell": "Table of Contents",
   "title_sidebar": "Contents",
   "toc_cell": false,
   "toc_position": {},
   "toc_section_display": true,
   "toc_window_display": false
  }
 },
 "nbformat": 4,
 "nbformat_minor": 5
}
